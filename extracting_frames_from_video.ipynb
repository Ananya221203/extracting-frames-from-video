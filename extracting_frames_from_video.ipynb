{
  "nbformat": 4,
  "nbformat_minor": 0,
  "metadata": {
    "colab": {
      "provenance": [],
      "authorship_tag": "ABX9TyMk5oN7orp24jNgUgTR/l64",
      "include_colab_link": true
    },
    "kernelspec": {
      "name": "python3",
      "display_name": "Python 3"
    },
    "language_info": {
      "name": "python"
    }
  },
  "cells": [
    {
      "cell_type": "markdown",
      "metadata": {
        "id": "view-in-github",
        "colab_type": "text"
      },
      "source": [
        "<a href=\"https://colab.research.google.com/github/Ananya221203/extracting-frames-from-video/blob/main/extracting_frames_from_video.ipynb\" target=\"_parent\"><img src=\"https://colab.research.google.com/assets/colab-badge.svg\" alt=\"Open In Colab\"/></a>"
      ]
    },
    {
      "cell_type": "code",
      "source": [
        "pip install opencv_python"
      ],
      "metadata": {
        "colab": {
          "base_uri": "https://localhost:8080/"
        },
        "id": "2u4bwcJQRTas",
        "outputId": "4c2ff521-2820-47d2-8566-717d7a8c760e"
      },
      "execution_count": null,
      "outputs": [
        {
          "output_type": "stream",
          "name": "stdout",
          "text": [
            "Requirement already satisfied: opencv_python in /usr/local/lib/python3.10/dist-packages (4.8.0.76)\n",
            "Requirement already satisfied: numpy>=1.21.2 in /usr/local/lib/python3.10/dist-packages (from opencv_python) (1.25.2)\n"
          ]
        }
      ]
    },
    {
      "cell_type": "code",
      "source": [
        "import cv2\n",
        "import os\n",
        "\n",
        "def extract_frames(video_path, output_folder, frame_rate=1):\n",
        "    \"\"\"\n",
        "    Extract frames from a video file and save them as images.\n",
        "\n",
        "    Parameters:\n",
        "    - video_path: Path to the input video file.\n",
        "    - output_folder: Directory to save the extracted frames.\n",
        "    - frame_rate: Number of frames to skip before extracting the next one (default is 1, meaning every frame is saved).\n",
        "    \"\"\"\n",
        "    # Create the output directory if it doesn't exist\n",
        "    if not os.path.exists(output_folder):\n",
        "        os.makedirs(output_folder)\n",
        "\n",
        "    # Open the video file\n",
        "    cap = cv2.VideoCapture(video_path)\n",
        "\n",
        "    # Check if the video was opened successfully\n",
        "    if not cap.isOpened():\n",
        "        print(f\"Error: Could not open video {video_path}\")\n",
        "        return\n",
        "\n",
        "    frame_count = 0\n",
        "    extracted_count = 0\n",
        "\n",
        "    while True:\n",
        "        # Read a frame from the video\n",
        "        ret, frame = cap.read()\n",
        "\n",
        "        # Break the loop if no frame is returned\n",
        "        if not ret:\n",
        "            break\n",
        "\n",
        "        # Save the frame at the specified rate\n",
        "        if frame_count % frame_rate == 0:\n",
        "            frame_filename = os.path.join(output_folder, f\"frame_{extracted_count:05d}.jpg\")\n",
        "            cv2.imwrite(frame_filename, frame)\n",
        "            extracted_count += 1\n",
        "\n",
        "        frame_count += 1\n",
        "\n",
        "    # Release the video capture object\n",
        "    cap.release()\n",
        "\n",
        "    print(f\"Extracted {extracted_count} frames from {video_path} and saved them to {output_folder}\")\n",
        "\n",
        "# Example usage\n",
        "video_path = '/content/cartoon .mp4'\n",
        "output_folder = '/content/FRAMES'\n",
        "extract_frames(video_path, output_folder, frame_rate=30)  # Adjust frame_rate as needed\n"
      ],
      "metadata": {
        "colab": {
          "base_uri": "https://localhost:8080/"
        },
        "id": "_1OUULnWAlIH",
        "outputId": "a1a4fa05-22bb-4af3-d911-e0efe668a763"
      },
      "execution_count": 11,
      "outputs": [
        {
          "output_type": "stream",
          "name": "stdout",
          "text": [
            "Extracted 60 frames from /content/cartoon .mp4 and saved them to /content/FRAMES\n"
          ]
        }
      ]
    },
    {
      "cell_type": "code",
      "source": [
        "%cd /content/FRAMES"
      ],
      "metadata": {
        "colab": {
          "base_uri": "https://localhost:8080/"
        },
        "id": "9Kfwg0SPBtfr",
        "outputId": "32357493-2ee8-4e70-8a44-763deb699bc6"
      },
      "execution_count": 17,
      "outputs": [
        {
          "output_type": "stream",
          "name": "stdout",
          "text": [
            "/content/FRAMES\n"
          ]
        }
      ]
    },
    {
      "cell_type": "code",
      "source": [
        " !zip -r FRAMES.zip FRAMES/"
      ],
      "metadata": {
        "colab": {
          "base_uri": "https://localhost:8080/"
        },
        "id": "ZPgI33SGB7vY",
        "outputId": "dd0f22a9-780b-47fb-d2bb-133c24e77bd8"
      },
      "execution_count": 18,
      "outputs": [
        {
          "output_type": "stream",
          "name": "stdout",
          "text": [
            "\tzip warning: name not matched: FRAMES/\n",
            "\n",
            "zip error: Nothing to do! (try: zip -r FRAMES.zip . -i FRAMES/)\n"
          ]
        }
      ]
    },
    {
      "cell_type": "code",
      "source": [
        "!pwd"
      ],
      "metadata": {
        "colab": {
          "base_uri": "https://localhost:8080/"
        },
        "id": "At3Won2GCDla",
        "outputId": "017d0978-5c15-45c1-b3e7-0fa14867d4f6"
      },
      "execution_count": 19,
      "outputs": [
        {
          "output_type": "stream",
          "name": "stdout",
          "text": [
            "/content/FRAMES\n"
          ]
        }
      ]
    },
    {
      "cell_type": "code",
      "source": [
        "!ls -l FRAMES"
      ],
      "metadata": {
        "colab": {
          "base_uri": "https://localhost:8080/"
        },
        "id": "ka21O38dCFeB",
        "outputId": "2022a648-e17c-4852-f410-9a0470f7d8be"
      },
      "execution_count": 20,
      "outputs": [
        {
          "output_type": "stream",
          "name": "stdout",
          "text": [
            "ls: cannot access 'FRAMES': No such file or directory\n"
          ]
        }
      ]
    },
    {
      "cell_type": "markdown",
      "source": [
        "**Code to download the extracted frames folder to local system **"
      ],
      "metadata": {
        "id": "lOZv1nkpCXeU"
      }
    },
    {
      "cell_type": "code",
      "source": [
        "import shutil\n",
        "from google.colab import files\n",
        "\n",
        "# Define the folder to be zipped\n",
        "folder_to_zip = '/content/FRAMES'  # replace 'your_folder' with your folder name\n",
        "\n",
        "# Define the name of the output zip file\n",
        "output_filename = '/content/FRAMES.zip'  # replace 'your_folder.zip' with your desired zip file name\n",
        "\n",
        "# Zip the folder\n",
        "shutil.make_archive(output_filename.replace('.zip', ''), 'zip', folder_to_zip)\n",
        "\n",
        "# Download the zip file\n",
        "files.download(output_filename)"
      ],
      "metadata": {
        "colab": {
          "base_uri": "https://localhost:8080/",
          "height": 17
        },
        "id": "Wh2e9VF6CY4w",
        "outputId": "c219bb7d-94bb-459f-9462-3a0bf13a64da"
      },
      "execution_count": 21,
      "outputs": [
        {
          "output_type": "display_data",
          "data": {
            "text/plain": [
              "<IPython.core.display.Javascript object>"
            ],
            "application/javascript": [
              "\n",
              "    async function download(id, filename, size) {\n",
              "      if (!google.colab.kernel.accessAllowed) {\n",
              "        return;\n",
              "      }\n",
              "      const div = document.createElement('div');\n",
              "      const label = document.createElement('label');\n",
              "      label.textContent = `Downloading \"${filename}\": `;\n",
              "      div.appendChild(label);\n",
              "      const progress = document.createElement('progress');\n",
              "      progress.max = size;\n",
              "      div.appendChild(progress);\n",
              "      document.body.appendChild(div);\n",
              "\n",
              "      const buffers = [];\n",
              "      let downloaded = 0;\n",
              "\n",
              "      const channel = await google.colab.kernel.comms.open(id);\n",
              "      // Send a message to notify the kernel that we're ready.\n",
              "      channel.send({})\n",
              "\n",
              "      for await (const message of channel.messages) {\n",
              "        // Send a message to notify the kernel that we're ready.\n",
              "        channel.send({})\n",
              "        if (message.buffers) {\n",
              "          for (const buffer of message.buffers) {\n",
              "            buffers.push(buffer);\n",
              "            downloaded += buffer.byteLength;\n",
              "            progress.value = downloaded;\n",
              "          }\n",
              "        }\n",
              "      }\n",
              "      const blob = new Blob(buffers, {type: 'application/binary'});\n",
              "      const a = document.createElement('a');\n",
              "      a.href = window.URL.createObjectURL(blob);\n",
              "      a.download = filename;\n",
              "      div.appendChild(a);\n",
              "      a.click();\n",
              "      div.remove();\n",
              "    }\n",
              "  "
            ]
          },
          "metadata": {}
        },
        {
          "output_type": "display_data",
          "data": {
            "text/plain": [
              "<IPython.core.display.Javascript object>"
            ],
            "application/javascript": [
              "download(\"download_04411b67-4f23-46ff-a720-f47a81285fe0\", \"FRAMES.zip\", 3567987)"
            ]
          },
          "metadata": {}
        }
      ]
    }
  ]
}